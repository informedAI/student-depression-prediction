{
 "cells": [
  {
   "cell_type": "markdown",
   "id": "e9b0384b",
   "metadata": {},
   "source": [
    "Step 1: Import Libraries"
   ]
  },
  {
   "cell_type": "code",
   "execution_count": 1,
   "id": "ceaae1f1",
   "metadata": {},
   "outputs": [],
   "source": [
    "import pandas as pd\n",
    "import numpy as np\n",
    "import re\n",
    "import torch"
   ]
  },
  {
   "cell_type": "markdown",
   "id": "106defd9",
   "metadata": {},
   "source": [
    "Step 2: Load the Dataset"
   ]
  },
  {
   "cell_type": "code",
   "execution_count": 2,
   "id": "ad071989",
   "metadata": {},
   "outputs": [
    {
     "name": "stderr",
     "output_type": "stream",
     "text": [
      "/Users/jakub/miniconda3/envs/depression/lib/python3.12/site-packages/tqdm/auto.py:21: TqdmWarning: IProgress not found. Please update jupyter and ipywidgets. See https://ipywidgets.readthedocs.io/en/stable/user_install.html\n",
      "  from .autonotebook import tqdm as notebook_tqdm\n"
     ]
    },
    {
     "name": "stdout",
     "output_type": "stream",
     "text": [
      "Path to dataset files: /Users/jakub/.cache/kagglehub/datasets/adilshamim8/student-depression-dataset/versions/1\n",
      "Number of example: 27901\n"
     ]
    }
   ],
   "source": [
    "import kagglehub\n",
    "\n",
    "# Download latest version\n",
    "path = kagglehub.dataset_download(\"adilshamim8/student-depression-dataset\")\n",
    "\n",
    "print(\"Path to dataset files:\", path)\n",
    "\n",
    "df = pd.read_csv(path + \"/student_depression_dataset.csv\")\n",
    "column_mapping = {\n",
    "    \"id\": \"id\",\n",
    "    \"Gender\": \"gender\",\n",
    "    \"Age\": \"age\",\n",
    "    \"City\": \"city\",\n",
    "    \"Profession\": \"profession\",\n",
    "    \"Academic Pressure\": \"academic_pressure\",\n",
    "    \"Work Pressure\": \"work_pressure\",\n",
    "    \"CGPA\": \"cgpa\",\n",
    "    \"Study Satisfaction\": \"study_satisfaction\",\n",
    "    \"Job Satisfaction\": \"job_satisfaction\",\n",
    "    \"Sleep Duration\": \"sleep_duration\",\n",
    "    \"Dietary Habits\": \"dietary_habits\",\n",
    "    \"Degree\": \"degree\",\n",
    "    \"Have you ever had suicidal thoughts ?\": \"suicidal_thoughts\",\n",
    "    \"Work/Study Hours\": \"work_study_hours\",\n",
    "    \"Financial Stress\": \"financial_stress\",\n",
    "    \"Family History of Mental Illness\": \"family_mental_illness\",\n",
    "    \"Depression\": \"depression\"\n",
    "}\n",
    "df = df.rename(columns=column_mapping)\n",
    "print(\"Number of example: {}\".format(len(df)))"
   ]
  },
  {
   "cell_type": "markdown",
   "id": "2b28983c",
   "metadata": {},
   "source": [
    "Step 3: Data Cleaning & Preprocessing\n",
    "\n",
    "3.1 Convert and Clean Data Types"
   ]
  },
  {
   "cell_type": "code",
   "execution_count": 3,
   "id": "7e9b0390",
   "metadata": {},
   "outputs": [],
   "source": [
    "# df.info()"
   ]
  },
  {
   "cell_type": "code",
   "execution_count": 4,
   "id": "fd227854",
   "metadata": {},
   "outputs": [],
   "source": [
    "# df.describe(include='all')"
   ]
  },
  {
   "cell_type": "code",
   "execution_count": 5,
   "id": "851ac8c4",
   "metadata": {},
   "outputs": [],
   "source": [
    "def extract_hours(s):\n",
    "    # Find a number (including decimals)\n",
    "    match = re.search(r\"(\\d+(\\.\\d+)?)\", str(s))\n",
    "    return float(match.group(1)) if match else np.nan\n",
    "\n",
    "df['sleep_duration'] = df['sleep_duration'].apply(extract_hours)\n",
    "\n",
    "# print(df[['sleep_duration', 'financial_stress']].head())"
   ]
  },
  {
   "cell_type": "markdown",
   "id": "34dba7a1",
   "metadata": {},
   "source": [
    "3.2 Check for Missing Values"
   ]
  },
  {
   "cell_type": "code",
   "execution_count": 6,
   "id": "c1b127ee",
   "metadata": {},
   "outputs": [],
   "source": [
    "missing_values = df.isnull().sum()\n",
    "# print(missing_values)\n",
    "df = df.dropna()\n",
    "df = df[df[\"dietary_habits\"] != \"Others\"]\n",
    "df = df[df[\"financial_stress\"] != \"?\"]\n"
   ]
  },
  {
   "cell_type": "markdown",
   "id": "45e55fc3",
   "metadata": {},
   "source": [
    "3.3 Drop not useful columns"
   ]
  },
  {
   "cell_type": "code",
   "execution_count": 7,
   "id": "aed765af",
   "metadata": {},
   "outputs": [],
   "source": [
    "df = df.drop(columns=['id', 'profession', 'job_satisfaction', 'work_pressure'])"
   ]
  },
  {
   "cell_type": "markdown",
   "id": "b1a8f130",
   "metadata": {},
   "source": [
    "3.4 Deal with categorical features"
   ]
  },
  {
   "cell_type": "code",
   "execution_count": 8,
   "id": "7e0e76c8",
   "metadata": {},
   "outputs": [],
   "source": [
    "df['suicidal_thoughts'] = df['suicidal_thoughts'].map({'Yes': 1, 'No': 0})\n",
    "df['family_mental_illness'] = df['family_mental_illness'].map({'Yes': 1, 'No': 0})\n",
    "\n",
    "# To check\n",
    "df['gender'] = df['gender'].map({'Female': 0, 'Male': 1})\n"
   ]
  },
  {
   "cell_type": "code",
   "execution_count": 9,
   "id": "527dbb95",
   "metadata": {},
   "outputs": [
    {
     "data": {
      "text/plain": [
       "array(['Healthy', 'Moderate', 'Unhealthy'], dtype=object)"
      ]
     },
     "metadata": {},
     "output_type": "display_data"
    }
   ],
   "source": [
    "display(df[\"dietary_habits\"].unique())\n",
    "df['dietary_habits'] = df['dietary_habits'].map({'Unhealthy': 0, 'Moderate': 1, 'Healthy': 2})"
   ]
  },
  {
   "cell_type": "code",
   "execution_count": 10,
   "id": "c24ac1c8",
   "metadata": {},
   "outputs": [],
   "source": [
    "from category_encoders import BinaryEncoder\n",
    "# To check\n",
    "# encoder = BinaryEncoder(cols=['city', 'degree'])\n",
    "# encoder = BinaryEncoder(cols=['degree'])\n",
    "\n",
    "# df_encoded = encoder.fit_transform(df)\n",
    "df_encoded = df.copy()\n",
    "\n",
    "df_encoded = df_encoded.drop(columns=['city', 'degree'])\n",
    "# df_encoded.info()\n"
   ]
  },
  {
   "cell_type": "code",
   "execution_count": 11,
   "id": "d623d73e",
   "metadata": {},
   "outputs": [],
   "source": [
    "# df_encoded.dtypes\n"
   ]
  },
  {
   "cell_type": "code",
   "execution_count": 12,
   "id": "1fcacbc5",
   "metadata": {},
   "outputs": [],
   "source": [
    "# df[\"financial_stress\"].value_counts()"
   ]
  },
  {
   "cell_type": "code",
   "execution_count": 13,
   "id": "8e504789",
   "metadata": {},
   "outputs": [
    {
     "name": "stdout",
     "output_type": "stream",
     "text": [
      "All columns converted to float:\n",
      "gender                   float64\n",
      "age                      float64\n",
      "academic_pressure        float64\n",
      "cgpa                     float64\n",
      "study_satisfaction       float64\n",
      "sleep_duration           float64\n",
      "dietary_habits           float64\n",
      "suicidal_thoughts        float64\n",
      "work_study_hours         float64\n",
      "financial_stress         float64\n",
      "family_mental_illness    float64\n",
      "depression               float64\n",
      "dtype: object\n"
     ]
    }
   ],
   "source": [
    "# First convert financial_stress from object to float\n",
    "# df_encoded['financial_stress'] = df_encoded['financial_stress'].astype(float)\n",
    "# Now all columns are numeric, we can check\n",
    "\n",
    "\n",
    "df_encoded = df_encoded.astype(float)\n",
    "\n",
    "# Verify the conversion\n",
    "print(\"All columns converted to float:\")\n",
    "print(df_encoded.dtypes)"
   ]
  },
  {
   "cell_type": "code",
   "execution_count": 14,
   "id": "7afdfeab",
   "metadata": {},
   "outputs": [],
   "source": [
    "labels = df_encoded['depression'].copy()\n",
    "# Convert labels to tensor\n",
    "y = torch.tensor(labels.values, dtype=torch.float32)\n",
    "\n",
    "X = df_encoded.drop(columns=['depression'])\n",
    "X = torch.tensor(X.values, dtype=torch.float32)\n"
   ]
  },
  {
   "cell_type": "code",
   "execution_count": 15,
   "id": "ddb6c2b2",
   "metadata": {},
   "outputs": [
    {
     "name": "stdout",
     "output_type": "stream",
     "text": [
      "Training set: torch.Size([22294, 11]), torch.Size([22294])\n",
      "Testing set: torch.Size([5574, 11]), torch.Size([5574])\n"
     ]
    }
   ],
   "source": [
    "from sklearn.model_selection import train_test_split\n",
    "\n",
    "# Using sklearn's train_test_split with torch tensors\n",
    "X_train_indices, X_test_indices = train_test_split(\n",
    "    range(len(X)), test_size=0.2, random_state=42\n",
    ")\n",
    "\n",
    "# Get the corresponding tensors using the indices\n",
    "X_train = X[X_train_indices]\n",
    "X_test = X[X_test_indices]\n",
    "y_train = y[X_train_indices]\n",
    "y_test = y[X_test_indices]\n",
    "\n",
    "print(f\"Training set: {X_train.shape}, {y_train.shape}\")\n",
    "print(f\"Testing set: {X_test.shape}, {y_test.shape}\")"
   ]
  },
  {
   "cell_type": "code",
   "execution_count": 16,
   "id": "04795e46",
   "metadata": {},
   "outputs": [],
   "source": [
    "mean = X_train.mean(dim=0, keepdim=True)\n",
    "std = X_train.std(dim=0, keepdim=True)\n",
    "\n",
    "# Avoid division by zero\n",
    "eps = 1e-6\n",
    "X_train_norm = (X_train - mean) / (std + eps)\n",
    "X_test_norm  = (X_test  - mean) / (std + eps)"
   ]
  },
  {
   "cell_type": "markdown",
   "id": "48f29d29",
   "metadata": {},
   "source": [
    "1. XGBoost"
   ]
  },
  {
   "cell_type": "code",
   "execution_count": 17,
   "id": "67d19dbe",
   "metadata": {},
   "outputs": [],
   "source": [
    "X_train_np = X_train_norm.cpu().numpy()\n",
    "y_train_np = y_train.cpu().numpy()\n",
    "X_test_np  = X_test_norm.cpu().numpy()\n",
    "y_test_np  = y_test.cpu().numpy()"
   ]
  },
  {
   "cell_type": "code",
   "execution_count": 18,
   "id": "a45167e4",
   "metadata": {},
   "outputs": [
    {
     "name": "stdout",
     "output_type": "stream",
     "text": [
      "[0]\tvalidation_0-logloss:0.63480\n",
      "[1]\tvalidation_0-logloss:0.59832\n",
      "[2]\tvalidation_0-logloss:0.56843\n",
      "[3]\tvalidation_0-logloss:0.54299\n",
      "[4]\tvalidation_0-logloss:0.52173\n",
      "[5]\tvalidation_0-logloss:0.50343\n",
      "[6]\tvalidation_0-logloss:0.48734\n",
      "[7]\tvalidation_0-logloss:0.47375\n",
      "[8]\tvalidation_0-logloss:0.46178\n",
      "[9]\tvalidation_0-logloss:0.45149\n",
      "[10]\tvalidation_0-logloss:0.44241\n",
      "[11]\tvalidation_0-logloss:0.43420\n",
      "[12]\tvalidation_0-logloss:0.42718\n",
      "[13]\tvalidation_0-logloss:0.42067\n",
      "[14]\tvalidation_0-logloss:0.41529\n",
      "[15]\tvalidation_0-logloss:0.41016\n",
      "[16]\tvalidation_0-logloss:0.40546\n",
      "[17]\tvalidation_0-logloss:0.40152\n",
      "[18]\tvalidation_0-logloss:0.39810\n",
      "[19]\tvalidation_0-logloss:0.39446\n",
      "[20]\tvalidation_0-logloss:0.39120\n",
      "[21]\tvalidation_0-logloss:0.38810\n",
      "[22]\tvalidation_0-logloss:0.38539\n",
      "[23]\tvalidation_0-logloss:0.38269\n",
      "[24]\tvalidation_0-logloss:0.38057\n",
      "[25]\tvalidation_0-logloss:0.37864\n",
      "[26]\tvalidation_0-logloss:0.37643\n",
      "[27]\tvalidation_0-logloss:0.37472\n",
      "[28]\tvalidation_0-logloss:0.37305\n",
      "[29]\tvalidation_0-logloss:0.37117\n",
      "[30]\tvalidation_0-logloss:0.36966\n",
      "[31]\tvalidation_0-logloss:0.36816\n",
      "[32]\tvalidation_0-logloss:0.36665\n",
      "[33]\tvalidation_0-logloss:0.36576\n",
      "[34]\tvalidation_0-logloss:0.36470\n",
      "[35]\tvalidation_0-logloss:0.36353\n",
      "[36]\tvalidation_0-logloss:0.36261\n",
      "[37]\tvalidation_0-logloss:0.36182\n",
      "[38]\tvalidation_0-logloss:0.36120\n",
      "[39]\tvalidation_0-logloss:0.36041\n",
      "[40]\tvalidation_0-logloss:0.35974\n",
      "[41]\tvalidation_0-logloss:0.35891\n",
      "[42]\tvalidation_0-logloss:0.35824\n",
      "[43]\tvalidation_0-logloss:0.35780\n",
      "[44]\tvalidation_0-logloss:0.35715\n",
      "[45]\tvalidation_0-logloss:0.35644\n",
      "[46]\tvalidation_0-logloss:0.35592\n",
      "[47]\tvalidation_0-logloss:0.35549\n",
      "[48]\tvalidation_0-logloss:0.35498\n",
      "[49]\tvalidation_0-logloss:0.35462\n",
      "[50]\tvalidation_0-logloss:0.35431\n",
      "[51]\tvalidation_0-logloss:0.35384\n",
      "[52]\tvalidation_0-logloss:0.35355\n",
      "[53]\tvalidation_0-logloss:0.35318\n",
      "[54]\tvalidation_0-logloss:0.35281\n",
      "[55]\tvalidation_0-logloss:0.35241\n",
      "[56]\tvalidation_0-logloss:0.35215\n",
      "[57]\tvalidation_0-logloss:0.35185\n",
      "[58]\tvalidation_0-logloss:0.35164\n",
      "[59]\tvalidation_0-logloss:0.35153\n",
      "[60]\tvalidation_0-logloss:0.35121\n",
      "[61]\tvalidation_0-logloss:0.35103\n",
      "[62]\tvalidation_0-logloss:0.35081\n",
      "[63]\tvalidation_0-logloss:0.35049\n",
      "[64]\tvalidation_0-logloss:0.35039\n",
      "[65]\tvalidation_0-logloss:0.35020\n",
      "[66]\tvalidation_0-logloss:0.35009\n",
      "[67]\tvalidation_0-logloss:0.34996\n",
      "[68]\tvalidation_0-logloss:0.34983\n",
      "[69]\tvalidation_0-logloss:0.34973\n",
      "[70]\tvalidation_0-logloss:0.34964\n",
      "[71]\tvalidation_0-logloss:0.34950\n",
      "[72]\tvalidation_0-logloss:0.34934\n",
      "[73]\tvalidation_0-logloss:0.34940\n",
      "[74]\tvalidation_0-logloss:0.34930\n",
      "[75]\tvalidation_0-logloss:0.34944\n",
      "[76]\tvalidation_0-logloss:0.34933\n",
      "[77]\tvalidation_0-logloss:0.34926\n",
      "[78]\tvalidation_0-logloss:0.34924\n",
      "[79]\tvalidation_0-logloss:0.34915\n",
      "[80]\tvalidation_0-logloss:0.34919\n",
      "[81]\tvalidation_0-logloss:0.34913\n",
      "[82]\tvalidation_0-logloss:0.34894\n",
      "[83]\tvalidation_0-logloss:0.34888\n",
      "[84]\tvalidation_0-logloss:0.34890\n",
      "[85]\tvalidation_0-logloss:0.34892\n",
      "[86]\tvalidation_0-logloss:0.34883\n",
      "[87]\tvalidation_0-logloss:0.34882\n",
      "[88]\tvalidation_0-logloss:0.34885\n",
      "[89]\tvalidation_0-logloss:0.34892\n"
     ]
    },
    {
     "name": "stderr",
     "output_type": "stream",
     "text": [
      "/Users/jakub/miniconda3/envs/depression/lib/python3.12/site-packages/xgboost/core.py:158: UserWarning: [20:24:56] WARNING: /var/folders/k1/30mswbxs7r1g6zwn8y4fyt500000gp/T/abs_d9k8pmaj4_/croot/xgboost-split_1724073758172/work/src/common/error_msg.cc:45: `gpu_id` is deprecated since2.0.0, use `device` instead. E.g. device=cpu/cuda/cuda:0\n",
      "  warnings.warn(smsg, UserWarning)\n",
      "/Users/jakub/miniconda3/envs/depression/lib/python3.12/site-packages/xgboost/core.py:158: UserWarning: [20:24:56] WARNING: /var/folders/k1/30mswbxs7r1g6zwn8y4fyt500000gp/T/abs_d9k8pmaj4_/croot/xgboost-split_1724073758172/work/src/context.cc:196: XGBoost is not compiled with CUDA support.\n",
      "  warnings.warn(smsg, UserWarning)\n"
     ]
    }
   ],
   "source": [
    "from xgboost import XGBClassifier\n",
    "\n",
    "model = XGBClassifier(\n",
    "  tree_method=\"auto\",\n",
    "  gpu_id=0,\n",
    "  max_depth=4,\n",
    "  learning_rate=0.1,\n",
    "  objective=\"binary:logistic\",\n",
    "  eval_metric=\"logloss\",\n",
    "  early_stopping_rounds=3,\n",
    ")\n",
    "\n",
    "model.fit(\n",
    "  X_train_np,\n",
    "  y_train_np,\n",
    "  eval_set=[(X_test_np, y_test_np)]\n",
    ")\n",
    "\n",
    "# Predictions\n",
    "y_pred_np     = model.predict(X_test_np)\n",
    "y_pred_tensor = torch.from_numpy(y_pred_np)\n"
   ]
  },
  {
   "cell_type": "code",
   "execution_count": 19,
   "id": "2e98f607",
   "metadata": {},
   "outputs": [
    {
     "name": "stdout",
     "output_type": "stream",
     "text": [
      "Accuracy: 84.89%\n"
     ]
    }
   ],
   "source": [
    "from sklearn.metrics import accuracy_score\n",
    "\n",
    "# Convert probabilities to binary predictions if needed\n",
    "y_pred_binary = (y_pred_np > 0.5).astype(int)\n",
    "\n",
    "# Calculate accuracy\n",
    "accuracy = accuracy_score(y_test_np, y_pred_binary)\n",
    "print(f\"Accuracy: {accuracy * 100:.2f}%\")"
   ]
  },
  {
   "cell_type": "markdown",
   "id": "89203c1b",
   "metadata": {},
   "source": [
    "Neural Networks (Multi-Layer Perceptron)\n"
   ]
  }
 ],
 "metadata": {
  "kernelspec": {
   "display_name": "depression",
   "language": "python",
   "name": "python3"
  },
  "language_info": {
   "codemirror_mode": {
    "name": "ipython",
    "version": 3
   },
   "file_extension": ".py",
   "mimetype": "text/x-python",
   "name": "python",
   "nbconvert_exporter": "python",
   "pygments_lexer": "ipython3",
   "version": "3.12.9"
  }
 },
 "nbformat": 4,
 "nbformat_minor": 5
}
